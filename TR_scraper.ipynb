import pandas as pd
from selenium import webdriver
from bs4 import BeautifulSoup

# Specifying incognito mode as you launch your browser[OPTIONAL]
option = webdriver.ChromeOptions()
option.add_argument("--no-sandbox")

browser = webdriver.Chrome(r'''C:\Users\tisch\chromedriver_win32\chromedriver.exe''', options=option)
# actions = ActionChains(browser)
# actions.click(submit)
# actions.perform()
# df = pd.read_csv("competitors2_low.csv")
# companies_titles = df["Company"]
# companies_titles = companies_titles.dropna()
companies_titles = ['apollo', 'quantcast measure', 'insidesales.com', 'gong.io', 'people.ai', 'charlie app', 'prospect.io', 'close.io', 'pipeliner crm', 'tact.ai', 'salesdirector.ai']
source_site_title = 'https://www.trustradius.com/'

data_final=[]
for company_title in companies_titles:
    browser.get('{}products/{}/reviews/alternatives-evaluated,likelihood-to-recommend,other-software-used,product-usage,pros-and-cons'.format(source_site_title, company_title))
    data_list= browser.find_elements_by_class_name("serp-details")
    for review in data_list:
        try:
            data_dict={"Company Name":'',"Review Title":'',"Reviewers Name":'',"Reviewers Position":'',"Reviewers Company":'',"Score":'','Pros':'','Cons':'','Likelihood to Recommend':'','Use Cases and Deployment Scope':'','Alternatives Considered':'','Other Software Used':''}
            data_dict["Company Name"]=company_title
            data_dict["Review Title"]=review.find_element_by_class_name("review-title").text
            data_dict["Reviewers Name"]=review.find_element_by_class_name("name").text
            data_dict["Reviewers Position"]=review.find_element_by_class_name("position").text
            try:
                data_dict["Reviewers Company"]=review.find_element_by_class_name("company").text
            except:
                data_dict["Reviewers Company"]=review.find_element_by_class_name("industry-type").text
            data_dict["Score"]=review.find_element_by_class_name("trust-score__score").text
            questions=review.find_elements_by_class_name("question")
            responses=review.find_elements_by_class_name("response")
            for question,response in zip(questions,responses):
                if question.text=='Pros and Cons':
                    pros_list=review.find_element_by_class_name("pros").find_elements_by_class_name("ugc")
                    pros_data=[x.text for x in pros_list]
                    cons_list=review.find_element_by_class_name("cons").find_elements_by_class_name("ugc")
                    cons_data=[x.text for x in cons_list]
                    data_dict['Pros']=pros_data
                    data_dict['Cons']=cons_data

                if question.text=='Likelihood to Recommend':
                    data_dict["Likelihood to Recommend"]=response.text

                if question.text=="Use Cases and Deployment Scope":
                    data_dict["Use Cases and Deployment Scope"]=response.text

                if question.text=="Alternatives Considered":
                    data_dict["Alternatives Considered"]=response.text

                if question.text=="Other Software Used":
                    data_dict["Other Software Used"]=response.text

            data_final.append(data_dict)
        
        except:
            pass

data_frame=pd.DataFrame(data_final, columns=[company_title, 'Company Name','Reviewers Name','Reviewers Position','Reviewers Company', 'Score','Review Title','Pros','Cons','Likelihood to Recommend','Use Cases and Deployment Scope','Alternatives Considered','Other Software Used'])
data_frame.to_csv("companies_trustrad_scrapped6.csv",index=False)
