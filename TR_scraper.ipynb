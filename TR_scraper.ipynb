from selenium import webdriver
from bs4 import BeautifulSoup

# Specifying incognito mode as you launch your browser[OPTIONAL]
option = webdriver.ChromeOptions()
option.add_argument("--no-sandbox")

browser = webdriver.Chrome(r'''C:\Users\tisch\chromedriver_win32\chromedriver.exe''', options=option)

companies_titles = ['groove']
source_site_title = 'https://www.trustradius.com/'
information = []

# Go to desired website
for company_title in companies_titles:
    browser.get('{}products/{}/reviews'.format(source_site_title, company_title))
    soup = BeautifulSoup(browser.page_source, 'lxml')
    browser.implicitly_wait(5)

    reviews = soup.findAll("div", {"class": "serp-result col-xs-12 serp-review"})
    for review in reviews:
        reviewer_name_block = review.find("a", {"class": "url fn"})

        reviewer_name = ""
        reviewer_link = ""
        reviewer_company_name = ""
        reviewer_pros = ""
        reviewer_cons = ""

        if reviewer_name_block:
            reviewer_name = reviewer_name_block.getText()
            reviewer_link = reviewer_name_block.get('href', "")
            if reviewer_link:
                reviewer_link = source_site_title + reviewer_link

        reviewer_company_name_block = review.find("span", {"class": "company"})
        if reviewer_company_name_block:
            reviewer_company_name = reviewer_company_name_block.getText()
        
        pros = review.find("ul", {"class": "pros"})
        if pros:
            reviewer_pros = pros.getText()
        
        cons = review.find("ul", {"class": "cons"})        
        if cons:
            reviewer_cons = cons.getText()

        if any((reviewer_name, reviewer_company_name, reviewer_link, reviewer_pros, reviewer_cons)):
            information.append((reviewer_name, reviewer_company_name, reviewer_link, reviewer_pros, reviewer_cons))
                        

browser.close()

print(information)

import pandas as pd
df = pd.DataFrame(information, columns=['reviewer_name', 'reviewer_company_name', 'reviewer_link', 'reviewer_pros', 'reviewer_cons'])
df.to_csv('reviews_scraped_f.csv', index=False, encoding='utf-8') 
